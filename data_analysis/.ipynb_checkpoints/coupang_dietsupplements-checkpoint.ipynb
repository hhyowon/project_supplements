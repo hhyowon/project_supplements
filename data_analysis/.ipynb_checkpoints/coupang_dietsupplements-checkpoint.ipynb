{
 "cells": [
  {
   "cell_type": "markdown",
   "id": "f61d774d-cf67-40e4-a435-10a32ddef0b8",
   "metadata": {
    "tags": []
   },
   "source": [
    "### 쿠팡 다이어트 보조제 \n",
    "- https://www.coupang.com/np/search?q=%EB%8B%A4%EC%9D%B4%EC%96%B4%ED%8A%B8%EB%B3%B4%EC%A1%B0%EC%A0%9C&channel=relate"
   ]
  },
  {
   "cell_type": "code",
   "execution_count": 21,
   "id": "db2731cf-3bcb-4d51-b34c-c6dce2f8cb95",
   "metadata": {
    "tags": []
   },
   "outputs": [],
   "source": [
    "from selenium import webdriver\n",
    "import time\n",
    "import pandas as pd \n",
    "import pymongo as mg "
   ]
  },
  {
   "cell_type": "code",
   "execution_count": 22,
   "id": "e85b73e5-d989-429b-8008-88e49111cbd3",
   "metadata": {
    "tags": []
   },
   "outputs": [],
   "source": [
    "browser = webdriver.Chrome(executable_path='../../../chromedriver.exe')"
   ]
  },
  {
   "cell_type": "code",
   "execution_count": 23,
   "id": "8258453c-0794-4438-8828-2a5dcfa42f0d",
   "metadata": {
    "tags": []
   },
   "outputs": [],
   "source": [
    "browser.get('https://www.coupang.com/np/search?q=%EB%8B%A4%EC%9D%B4%EC%96%B4%ED%8A%B8%EB%B3%B4%EC%A1%B0%EC%A0%9C&channel=relate')"
   ]
  },
  {
   "cell_type": "markdown",
   "id": "88e91052-c9d3-494b-9f63-0bc2643c3eed",
   "metadata": {
    "tags": []
   },
   "source": [
    "### 글 가져오기\n",
    "- 상품 클릭 tag: .search-product-wrap\n",
    "- 상품명 tag: .prod-buy-header__title\n",
    "- 리뷰 작성자 tag: .sdp-review__article__list__info__user__name js_reviewUserProfileImage\n",
    "- 리뷰 별점 tag: .sdp-review__article__list__info__product-info__star-orange js_reviewArticleRatingValue\n",
    "- 리뷰 제목 tag: .sdp-review__article__list__headline\n",
    "- 리뷰 내용 tag: .sdp-review__article__list__review__content js_reviewArticleContent"
   ]
  },
  {
   "cell_type": "code",
   "execution_count": 12,
   "id": "aa6f68f2-f4d8-4836-a1b4-ce5bc7c891e9",
   "metadata": {
    "tags": []
   },
   "outputs": [
    {
     "data": {
      "text/plain": [
       "35"
      ]
     },
     "execution_count": 12,
     "metadata": {},
     "output_type": "execute_result"
    }
   ],
   "source": [
    "#페이지당 상품 묶음 개수 체크\n",
    "product_bundle = browser.find_elements_by_css_selector('.search-product-wrap')\n",
    "len(product_bundle)"
   ]
  },
  {
   "cell_type": "code",
   "execution_count": 20,
   "id": "68d0035e-2fe5-4711-8148-2c27da4242cf",
   "metadata": {
    "tags": []
   },
   "outputs": [],
   "source": [
    "#페이지당 상품 묶음 개수 체크\n",
    "browser.find_element_by_css_selector('.search-product-wrap').click()\n",
    "## 상품 클릭시 오류창 뜸 "
   ]
  },
  {
   "cell_type": "code",
   "execution_count": null,
   "id": "1c35b78e-423e-43f5-b673-75b3a8e17e26",
   "metadata": {},
   "outputs": [],
   "source": []
  }
 ],
 "metadata": {
  "kernelspec": {
   "display_name": "Python 3 (ipykernel)",
   "language": "python",
   "name": "python3"
  },
  "language_info": {
   "codemirror_mode": {
    "name": "ipython",
    "version": 3
   },
   "file_extension": ".py",
   "mimetype": "text/x-python",
   "name": "python",
   "nbconvert_exporter": "python",
   "pygments_lexer": "ipython3",
   "version": "3.11.3"
  }
 },
 "nbformat": 4,
 "nbformat_minor": 5
}
